{
 "cells": [
  {
   "cell_type": "code",
   "execution_count": 102,
   "metadata": {},
   "outputs": [],
   "source": [
    "# Imports\n",
    "import random\n",
    "import math\n",
    "import time"
   ]
  },
  {
   "cell_type": "code",
   "execution_count": 103,
   "metadata": {},
   "outputs": [],
   "source": [
    "# Parameters\n",
    "N = 5000  # training set size\n",
    "M = 10   # test set size\n",
    "D = 4  # dimension of data\n",
    "K = 3  # number of neighbours to use\n",
    "SEED = 42  # random seed"
   ]
  },
  {
   "cell_type": "code",
   "execution_count": 104,
   "metadata": {},
   "outputs": [],
   "source": [
    "# Helpers\n",
    "def distance(X1, X2):\n",
    "    \"\"\"Euclidean distance between two vectors.\"\"\"\n",
    "    return sum((x1 - x2) ** 2 for x1, x2 in zip(X1, X2))"
   ]
  },
  {
   "cell_type": "code",
   "execution_count": 105,
   "metadata": {},
   "outputs": [],
   "source": [
    "# Generate dataset\n",
    "random.seed(SEED)\n",
    "X_train = [[random.gauss(0, 1) \n",
    "            for d in range(D)]\n",
    "           for n in range(N)]\n",
    "y_train = [random.gauss(0, 1) for n in range(N)]\n",
    "X_test = [[random.gauss(0, 1) \n",
    "           for d in range(D)]\n",
    "          for n in range(M)]\n",
    "y_pred = []"
   ]
  },
  {
   "cell_type": "code",
   "execution_count": 106,
   "metadata": {},
   "outputs": [],
   "source": [
    "# Precompute distance matrix\n",
    "train_dist = [\n",
    "    [\n",
    "        math.sqrt(distance(X_train[i], X_train[j]))\n",
    "        for j in range(i+1, N)\n",
    "    ]\n",
    "    for i in range(N-1)\n",
    "]"
   ]
  },
  {
   "cell_type": "code",
   "execution_count": 107,
   "metadata": {},
   "outputs": [
    {
     "name": "stdout",
     "output_type": "stream",
     "text": [
      "498 distance calls\n",
      "Completed in 0.12 seconds\n"
     ]
    }
   ],
   "source": [
    "# Record start time\n",
    "start = time.time()\n",
    "\n",
    "# kNN implementation\n",
    "dist_calls = 0\n",
    "for X0 in X_test:\n",
    "    possible = [True for i in range(N)]\n",
    "    curr_neighbours = [None for i in range(K)]\n",
    "\n",
    "    cnt = 0\n",
    "    for i, (X, y) in enumerate(zip(X_train[1:], y_train[1:])):\n",
    "        if not possible[i]:\n",
    "            continue\n",
    "        d = math.sqrt(distance(X0, X))\n",
    "        dist_calls += 1\n",
    "        if i > K:\n",
    "            for j, X in enumerate(X_train[i+1:]):\n",
    "                if not possible[j]:\n",
    "                    continue\n",
    "                if abs(d - train_dist[i][j]) > curr_neighbours[K-1][3]:\n",
    "                    cnt += 1\n",
    "                    possible[j] = False\n",
    "        for k in range(K):\n",
    "            if curr_neighbours[k] is None or \\\n",
    "                    curr_neighbours[k][3] > d:\n",
    "                curr_neighbours.insert(k, (i, X, y, d))\n",
    "                del curr_neighbours[K]\n",
    "\n",
    "# Report elapsed time\n",
    "elapsed = time.time() - start\n",
    "print(dist_calls, \"distance calls\")\n",
    "print(f\"Completed in {elapsed:.02f} seconds\")"
   ]
  },
  {
   "cell_type": "code",
   "execution_count": 108,
   "metadata": {},
   "outputs": [
    {
     "name": "stdout",
     "output_type": "stream",
     "text": [
      "49990 distance calls\n",
      "Completed in 0.08 seconds\n"
     ]
    }
   ],
   "source": [
    "# Record start time\n",
    "start = time.time()\n",
    "\n",
    "# kNN implementation\n",
    "dist_calls = 0\n",
    "for X0 in X_test:\n",
    "    possible = [True for i in range(N)]\n",
    "    curr_neighbours = [None for i in range(K)]\n",
    "\n",
    "    for i, (X, y) in enumerate(zip(X_train[1:], y_train[1:])):\n",
    "        if not possible[i]:\n",
    "            continue\n",
    "        d = distance(X0, X)\n",
    "        dist_calls += 1\n",
    "        #if i > K:\n",
    "            #for j, X in enumerate(X_train[i+1:]):\n",
    "            #    if abs(d - train_dist[i][j]) > curr_neighbours[K-1][3]:\n",
    "            #        possible[j] = False\n",
    "        for k in range(K):\n",
    "            if curr_neighbours[k] is None or \\\n",
    "                    curr_neighbours[k][3] > d:\n",
    "                curr_neighbours.insert(k, (i, X, y, d))\n",
    "                del curr_neighbours[K]\n",
    "                \n",
    "# Report elapsed time\n",
    "elapsed = time.time() - start\n",
    "print(dist_calls, \"distance calls\")\n",
    "print(f\"Completed in {elapsed:.02f} seconds\")"
   ]
  }
 ],
 "metadata": {
  "kernelspec": {
   "display_name": "Python 3",
   "language": "python",
   "name": "python3"
  },
  "language_info": {
   "codemirror_mode": {
    "name": "ipython",
    "version": 3
   },
   "file_extension": ".py",
   "mimetype": "text/x-python",
   "name": "python",
   "nbconvert_exporter": "python",
   "pygments_lexer": "ipython3",
   "version": "3.8.5"
  }
 },
 "nbformat": 4,
 "nbformat_minor": 4
}
